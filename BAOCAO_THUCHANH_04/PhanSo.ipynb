{
  "nbformat": 4,
  "nbformat_minor": 0,
  "metadata": {
    "colab": {
      "name": "PhanSo.ipynb",
      "provenance": [],
      "authorship_tag": "ABX9TyOfRp4Yb3fBC+6USwrL5pxb",
      "include_colab_link": true
    },
    "kernelspec": {
      "name": "python3",
      "display_name": "Python 3"
    },
    "language_info": {
      "name": "python"
    }
  },
  "cells": [
    {
      "cell_type": "markdown",
      "metadata": {
        "id": "view-in-github",
        "colab_type": "text"
      },
      "source": [
        "<a href=\"https://colab.research.google.com/github/TruongQuocTruong/L23.KHCL.N11/blob/main/PhanSo.ipynb\" target=\"_parent\"><img src=\"https://colab.research.google.com/assets/colab-badge.svg\" alt=\"Open In Colab\"/></a>"
      ]
    },
    {
      "cell_type": "code",
      "metadata": {
        "id": "_sYPvcLkT2kJ"
      },
      "source": [
        "import math\n",
        "\n",
        "a=int(input())\n",
        "b=int(input())\n",
        "c=int(input())\n",
        "d=int(input())\n",
        "dem = 0\n",
        "\n",
        "m=math.gcd(c,d)\n",
        "c=c//m\n",
        "d=d//m\n",
        "\n",
        "while(a/b<=c/d):\n",
        "  n=math.gcd(a,b)\n",
        "  a=a//n\n",
        "  b=b//n\n",
        "  if a/b!=c/d:\n",
        "    a=a+1\n",
        "    b=b+1\n",
        "    dem=dem+1\n",
        "  else:\n",
        "    break\n",
        "if a/b!=c/d:\n",
        "  dem=0\n",
        "print(dem)"
      ],
      "execution_count": null,
      "outputs": []
    }
  ]
}