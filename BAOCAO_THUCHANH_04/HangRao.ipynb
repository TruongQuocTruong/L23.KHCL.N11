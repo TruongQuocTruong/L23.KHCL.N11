{
  "nbformat": 4,
  "nbformat_minor": 0,
  "metadata": {
    "colab": {
      "name": "HangRao.ipynb",
      "provenance": [],
      "collapsed_sections": [],
      "authorship_tag": "ABX9TyO3dU9MLJLH8NnzgxQNApo4",
      "include_colab_link": true
    },
    "kernelspec": {
      "name": "python3",
      "display_name": "Python 3"
    },
    "language_info": {
      "name": "python"
    }
  },
  "cells": [
    {
      "cell_type": "markdown",
      "metadata": {
        "id": "view-in-github",
        "colab_type": "text"
      },
      "source": [
        "<a href=\"https://colab.research.google.com/github/TruongQuocTruong/L23.KHCL.N11/blob/main/HangRao.ipynb\" target=\"_parent\"><img src=\"https://colab.research.google.com/assets/colab-badge.svg\" alt=\"Open In Colab\"/></a>"
      ]
    },
    {
      "cell_type": "code",
      "metadata": {
        "id": "RM-3yK-lKquC"
      },
      "source": [
        "n = int(input())\n",
        "HANGRAO = list(map(int, input().split()))\n",
        "m = int(input())\n",
        "GOTHUA = list(map(int, input().split()))\n",
        "###############\n",
        "Sum=sum(HANGRAO)//n\n",
        "i = 0\n",
        "Ind = 0\n",
        "HR=HANGRAO.copy()\n",
        "Max_temp = Sum\n",
        "HR.sort()\n",
        "for i in HR:\n",
        "  if i>Max_temp:\n",
        "    Max_temp=i\n",
        "    break\n",
        "Len = 0\n",
        "x = []\n",
        "y = []\n",
        "Min=Max_temp  \n",
        "for i in HANGRAO:\n",
        "  if (i < Max_temp):\n",
        "    Min=min(i,Min)\n",
        "    for j in GOTHUA[Ind:]:\n",
        "      if (i + j == Max_temp):\n",
        "        x.append(HANGRAO.index(i)+1)\n",
        "        y.append(GOTHUA.index(j)+1)\n",
        "        Ind = GOTHUA.index(j) +1\n",
        "        Min=Max_temp\n",
        "        break\n",
        "print(Min,len(x))\n",
        "for i in range(len(x)):\n",
        "  print(x[i],y[i])"
      ],
      "execution_count": null,
      "outputs": []
    }
  ]
}