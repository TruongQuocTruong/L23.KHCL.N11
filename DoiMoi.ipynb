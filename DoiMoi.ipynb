{
  "nbformat": 4,
  "nbformat_minor": 0,
  "metadata": {
    "colab": {
      "name": "DoiMoi.ipynb",
      "provenance": [],
      "collapsed_sections": [],
      "authorship_tag": "ABX9TyMzNtjXk4KeTz7YyT82qKK+",
      "include_colab_link": true
    },
    "kernelspec": {
      "name": "python3",
      "display_name": "Python 3"
    },
    "language_info": {
      "name": "python"
    }
  },
  "cells": [
    {
      "cell_type": "markdown",
      "metadata": {
        "id": "view-in-github",
        "colab_type": "text"
      },
      "source": [
        "<a href=\"https://colab.research.google.com/github/TruongQuocTruong/L23.KHCL.N11/blob/main/DoiMoi.ipynb\" target=\"_parent\"><img src=\"https://colab.research.google.com/assets/colab-badge.svg\" alt=\"Open In Colab\"/></a>"
      ]
    },
    {
      "cell_type": "code",
      "metadata": {
        "id": "kDDdreLBP2zW"
      },
      "source": [
        "from sys import stdin\n",
        "Input = [int(i) for i in stdin.readline().split()]\n",
        "A,K,B,M,N = map(int,Input)\n",
        "Day = int(N // (A+B))\n",
        "Tree=int( A* (Day-(Day // K))   +    B*(Day - (Day // M)))\n",
        "X=int(N-Tree)\n",
        "Temp=0\n",
        "while X>(A+B):\n",
        "\tTemp=int(X//(A+B))\n",
        "\tDay = Day + Temp\n",
        "\tTree = int( A* (Temp-(Temp // K))   +    B*(Temp - (Temp // M)))\n",
        "\tX=X-Tree\n",
        "while Tree<N:\n",
        "\tDay=Day+1\n",
        "\tTree=int( A* (Day-(Day // K))   +    B*(Day - (Day // M)))\n",
        "print(Day)"
      ],
      "execution_count": null,
      "outputs": []
    }
  ]
}