{
  "nbformat": 4,
  "nbformat_minor": 0,
  "metadata": {
    "colab": {
      "name": "SoNguyenMoi.ipynb",
      "provenance": [],
      "collapsed_sections": [],
      "authorship_tag": "ABX9TyNUMkG2XPU40+LE7eGbnnOB",
      "include_colab_link": true
    },
    "kernelspec": {
      "name": "python3",
      "display_name": "Python 3"
    },
    "language_info": {
      "name": "python"
    }
  },
  "cells": [
    {
      "cell_type": "markdown",
      "metadata": {
        "id": "view-in-github",
        "colab_type": "text"
      },
      "source": [
        "<a href=\"https://colab.research.google.com/github/TruongQuocTruong/L23.KHCL.N11/blob/main/SoNguyenMoi.ipynb\" target=\"_parent\"><img src=\"https://colab.research.google.com/assets/colab-badge.svg\" alt=\"Open In Colab\"/></a>"
      ]
    },
    {
      "cell_type": "code",
      "metadata": {
        "id": "G6inP3fBQTC4",
        "colab": {
          "base_uri": "https://localhost:8080/"
        },
        "outputId": "f1486f77-a1f6-458d-aaea-6ce08095cbf7"
      },
      "source": [
        "from sys import stdin\n",
        "#arr = list(stdin.readline().strip())\n",
        "arr = input().split()\n",
        "arr = [int(i) for i in arr]\n",
        "dem=0\n",
        "for i in range(0,len(arr)):\n",
        "    t=arr[i]    \n",
        "    arr[i]=9\n",
        "    arr[i]=9-sum(arr)%3    \n",
        "    if arr[i]>t: \n",
        "        dem=1         \n",
        "        break\n",
        "    else:  \n",
        "        arr[i]=t    \n",
        "\n",
        "if sum(arr)%3!=0:\n",
        "    arr[len(arr)-1]-=sum(arr)%3\n",
        "elif dem==0:\n",
        "    arr[len(arr)-1]-=3\n",
        "\n",
        "print(*arr,sep=\"\")"
      ],
      "execution_count": 5,
      "outputs": [
        {
          "output_type": "stream",
          "text": [
            "303\n",
            "300\n"
          ],
          "name": "stdout"
        }
      ]
    }
  ]
}