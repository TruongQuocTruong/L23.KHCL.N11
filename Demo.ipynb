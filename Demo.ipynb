{
  "nbformat": 4,
  "nbformat_minor": 0,
  "metadata": {
    "colab": {
      "name": "Demo.ipynb",
      "provenance": [],
      "collapsed_sections": [],
      "authorship_tag": "ABX9TyM8HqrazxRgma/pThhy/og7",
      "include_colab_link": true
    },
    "kernelspec": {
      "name": "python3",
      "display_name": "Python 3"
    },
    "language_info": {
      "name": "python"
    }
  },
  "cells": [
    {
      "cell_type": "markdown",
      "metadata": {
        "id": "view-in-github",
        "colab_type": "text"
      },
      "source": [
        "<a href=\"https://colab.research.google.com/github/TruongQuocTruong/L23.KHCL.N11/blob/main/Demo.ipynb\" target=\"_parent\"><img src=\"https://colab.research.google.com/assets/colab-badge.svg\" alt=\"Open In Colab\"/></a>"
      ]
    },
    {
      "cell_type": "code",
      "metadata": {
        "id": "uK7kLSdX9_HD"
      },
      "source": [
        "import sys\n",
        "n = int(input())\n",
        "lst = [int(val) for val in input().split()]\n",
        "lst.sort()\n",
        "lst.reverse()\n",
        "D = 0\n",
        "i = 1\n",
        "while i <= len(lst):\n",
        "  if lst[i-1] >= i:\n",
        "    D += 1\n",
        "  i += 1\n",
        "print(D)"
      ],
      "execution_count": null,
      "outputs": []
    }
  ]
}