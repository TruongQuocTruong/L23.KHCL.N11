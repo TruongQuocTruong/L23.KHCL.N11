{
  "nbformat": 4,
  "nbformat_minor": 0,
  "metadata": {
    "colab": {
      "name": "TramThuPhi.ipynb",
      "provenance": [],
      "collapsed_sections": []
    },
    "kernelspec": {
      "name": "python3",
      "display_name": "Python 3"
    },
    "language_info": {
      "name": "python"
    }
  },
  "cells": [
    {
      "cell_type": "code",
      "metadata": {
        "id": "LSSR9WBeC0ML"
      },
      "source": [
        "import sys\n",
        "n = int(input())\n",
        "Arr = [int(x) for x in sys.stdin.readline().split()]\n",
        "##########\n",
        "summ = best = 0\n",
        "start = end = Tempstart = 0\n",
        "\n",
        "for i in range(n -1):\n",
        "    if(summ + Arr[i] < Arr[i]):\n",
        "        Tempstart = i\n",
        "        summ = Arr[i];\n",
        "    else:\n",
        "        summ += Arr[i]\n",
        "        \n",
        "    if(best < summ):\n",
        "        best = summ\n",
        "        start = Tempstart\n",
        "        end = i\n",
        "    \n",
        "print(start+1,\" \",end+1, \" \",best)"
      ],
      "execution_count": null,
      "outputs": []
    }
  ]
}