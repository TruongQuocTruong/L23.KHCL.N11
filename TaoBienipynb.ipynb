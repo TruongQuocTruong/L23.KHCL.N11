{
  "nbformat": 4,
  "nbformat_minor": 0,
  "metadata": {
    "colab": {
      "name": "TaoBienipynb",
      "provenance": []
    },
    "kernelspec": {
      "name": "python3",
      "display_name": "Python 3"
    },
    "language_info": {
      "name": "python"
    }
  },
  "cells": [
    {
      "cell_type": "code",
      "metadata": {
        "id": "5pwTgXSHDOMM"
      },
      "source": [
        "str = input().split()\n",
        "n = int(str[0])\n",
        "k = int(str[1])\n",
        "\n",
        "def Fibo(k):\n",
        "  x1 = 1\n",
        "  x2 = 1\n",
        "  i = 2\n",
        "  while i <= k:\n",
        "    Temp = x2\n",
        "    x2 = x1 + x2\n",
        "    x1 = Temp\n",
        "    i += 1\n",
        "  return x2\n",
        "print((n*Fibo(k*2))% (10**9 + 7))"
      ],
      "execution_count": null,
      "outputs": []
    }
  ]
}